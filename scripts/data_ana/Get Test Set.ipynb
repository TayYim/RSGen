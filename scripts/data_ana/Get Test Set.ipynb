{
 "cells": [
  {
   "cell_type": "markdown",
   "metadata": {},
   "source": [
    "# Get Test Set\n",
    "\n",
    "A ADS with all w values in all scenarios, expect to have 5*6*20=600 items\n",
    "\n",
    "Save in a dict. 1st layer key is scenario name, 2nd layer key is w, value is params"
   ]
  },
  {
   "cell_type": "code",
   "execution_count": 1,
   "metadata": {},
   "outputs": [],
   "source": [
    "import csv\n",
    "import numpy as np\n",
    "import matplotlib.pyplot as plt\n",
    "import pandas as pd\n",
    "import os\n",
    "import seaborn as sns\n",
    "from pathlib import Path\n",
    "from IPython.display import display\n",
    "import pickle\n",
    "# from env_utils import read_pso_search_files, detect_convergence\n",
    "%matplotlib inline\n",
    "\n",
    "from data_utils import get_unique_search_df"
   ]
  },
  {
   "cell_type": "code",
   "execution_count": 2,
   "metadata": {},
   "outputs": [],
   "source": [
    "def get_final_test_set(exp_path):\n",
    "    # Analyze species, return a list of the particles's best value\n",
    "    with open(exp_path / \"species.pkl\", \"rb\") as f:\n",
    "        species = pickle.load(f)\n",
    "    final_test_set = []\n",
    "    for s in species:\n",
    "        for p in s:\n",
    "            if p.best is not None:\n",
    "                final_test_set.append(p.best)\n",
    "    return final_test_set\n",
    "\n",
    "def get_final_test_set_unique_20(exp_path):\n",
    "    # Analyze species, return a list of the particles's best value\n",
    "    search_df_unique = get_unique_search_df(exp_path)\n",
    "    search_df_last20 = search_df_unique.tail(20)\n",
    "    final_test_set = []\n",
    "    for index, row in search_df_last20.iterrows():\n",
    "        final_test_set.append(row[7:].to_list())\n",
    "    return final_test_set"
   ]
  },
  {
   "cell_type": "code",
   "execution_count": 3,
   "metadata": {},
   "outputs": [],
   "source": [
    "ADS_name = \"apollo\"\n",
    "\n",
    "test_set_dict = {}\n",
    "\n",
    "# Set the base path of the output directory\n",
    "base_path = Path(\"../../output-final\")\n",
    "\n",
    "# Traverse the output directory\n",
    "for scenario_name in os.listdir(base_path):\n",
    "    test_set_dict[scenario_name] = {}\n",
    "    # Check if it is a directory\n",
    "    scenario_path = os.path.join(base_path, scenario_name)\n",
    "    if os.path.isdir(scenario_path):\n",
    "        # Traverse the agent directory in each scenario\n",
    "        for agent_name in os.listdir(scenario_path):\n",
    "            if agent_name != ADS_name:\n",
    "                continue\n",
    "            agent_path = os.path.join(scenario_path, agent_name)\n",
    "            if os.path.isdir(agent_path):\n",
    "                for experiment_name in os.listdir(agent_path):\n",
    "\n",
    "                    # Only need results from full test\n",
    "                    if \"20x50\" not in experiment_name:\n",
    "                        continue\n",
    "\n",
    "                    w = float(experiment_name.split('_')[1])\n",
    "\n",
    "                    test_set_dict[scenario_name][w] = []\n",
    "\n",
    "                    exp_path = os.path.join(agent_path, experiment_name)\n",
    "\n",
    "                    # get test set of this experiment\n",
    "                    final_test_set = get_final_test_set_unique_20(Path(exp_path))\n",
    "\n",
    "                    test_set_dict[scenario_name][w] = final_test_set            \n",
    "                    "
   ]
  },
  {
   "cell_type": "code",
   "execution_count": 4,
   "metadata": {},
   "outputs": [
    {
     "name": "stdout",
     "output_type": "stream",
     "text": [
      "nonsignalized_junction_left_turn\n",
      "0.5 20\n",
      "1.0 20\n",
      "0.7 20\n",
      "0.0 20\n",
      "0.3 20\n",
      "\n",
      "front_cut_in_with_two_npc\n",
      "0.0 20\n",
      "0.7 20\n",
      "1.0 20\n",
      "0.3 20\n",
      "0.5 20\n",
      "\n",
      "opposite_vehicle_taking_priority\n",
      "1.0 20\n",
      "0.0 20\n",
      "0.5 20\n",
      "0.7 20\n",
      "0.3 20\n",
      "\n",
      "front_cut_in_with_one_npc\n",
      "0.5 20\n",
      "0.0 20\n",
      "1.0 20\n",
      "0.3 20\n",
      "0.7 20\n",
      "\n",
      "front_brake\n",
      "0.7 20\n",
      "0.0 20\n",
      "1.0 20\n",
      "0.5 20\n",
      "0.3 20\n",
      "\n",
      "nonsignalized_junction_right_turn\n",
      "0.3 20\n",
      "1.0 20\n",
      "0.5 20\n",
      "0.7 20\n",
      "0.0 20\n",
      "\n"
     ]
    }
   ],
   "source": [
    "# Show the second layer structure of the dict\n",
    "for k, v in test_set_dict.items():\n",
    "    print(k)\n",
    "    for k2, v2 in v.items():\n",
    "        print(k2, len(v2))\n",
    "    print()"
   ]
  },
  {
   "cell_type": "code",
   "execution_count": 5,
   "metadata": {},
   "outputs": [],
   "source": [
    "# save test_set_dict as pickle\n",
    "with open(f\"test_set_{ADS_name}.pkl\", \"wb\") as f:\n",
    "    pickle.dump(test_set_dict, f)"
   ]
  },
  {
   "cell_type": "code",
   "execution_count": null,
   "metadata": {},
   "outputs": [],
   "source": []
  }
 ],
 "metadata": {
  "kernelspec": {
   "display_name": "py310",
   "language": "python",
   "name": "python3"
  },
  "language_info": {
   "codemirror_mode": {
    "name": "ipython",
    "version": 3
   },
   "file_extension": ".py",
   "mimetype": "text/x-python",
   "name": "python",
   "nbconvert_exporter": "python",
   "pygments_lexer": "ipython3",
   "version": "3.10.13"
  }
 },
 "nbformat": 4,
 "nbformat_minor": 2
}
